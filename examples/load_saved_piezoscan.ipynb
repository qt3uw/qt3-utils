{
 "cells": [
  {
   "cell_type": "code",
   "execution_count": 1,
   "id": "1db7729e-b581-4ebd-9766-b4e9708de872",
   "metadata": {},
   "outputs": [],
   "source": [
    "import numpy as np\n",
    "import matplotlib.pyplot as plt"
   ]
  },
  {
   "cell_type": "code",
   "execution_count": 2,
   "id": "87d395a3-80bc-4de2-909a-8f564f027d62",
   "metadata": {},
   "outputs": [],
   "source": [
    "# 'random_example_scan.npy' is a piezo scan saved by the QT3Scan application\n",
    "# However, it could also be produced by a scan generated in a script (see confocal-scan.ipynb)"
   ]
  },
  {
   "cell_type": "code",
   "execution_count": 3,
   "id": "e7813988-44c2-4116-a86d-f69990749fab",
   "metadata": {},
   "outputs": [],
   "source": [
    "scan = np.load('random_example_scan.npy')"
   ]
  },
  {
   "cell_type": "code",
   "execution_count": 4,
   "id": "8fc6c1ad-aa16-4c5e-bda5-de26ab7bb288",
   "metadata": {},
   "outputs": [
    {
     "data": {
      "text/plain": [
       "array([[394.44263163, 387.14466772, 379.86724258, ..., 393.19195764,\n",
       "        390.44964587, 392.82370975],\n",
       "       [381.36963785, 387.67450857, 390.8700164 , ..., 389.45881931,\n",
       "        392.21359863, 380.48215531],\n",
       "       [386.71345225, 383.97144591, 377.78904987, ..., 381.8892474 ,\n",
       "        377.14796969, 381.07011141],\n",
       "       ...,\n",
       "       [379.58590645, 382.94460297, 383.47915883, ..., 387.21760002,\n",
       "        383.09009412, 380.74380074],\n",
       "       [391.24198969, 388.71007684, 388.05583508, ..., 376.51787361,\n",
       "        386.5893003 , 379.53470774],\n",
       "       [381.02457859, 384.41700003, 390.7368962 , ..., 384.59599232,\n",
       "        380.28825079, 385.05306047]])"
      ]
     },
     "execution_count": 4,
     "metadata": {},
     "output_type": "execute_result"
    }
   ],
   "source": [
    "scan #a 2D array of count rates"
   ]
  },
  {
   "cell_type": "code",
   "execution_count": 5,
   "id": "361ad278-88a6-4b29-aa84-8813fadc4a21",
   "metadata": {},
   "outputs": [
    {
     "data": {
      "text/plain": [
       "<matplotlib.image.AxesImage at 0x7fe9de4eba00>"
      ]
     },
     "execution_count": 5,
     "metadata": {},
     "output_type": "execute_result"
    },
    {
     "data": {
      "image/png": "[encoded data removed]",
      "text/plain": [
       "<Figure size 432x288 with 1 Axes>"
      ]
     },
     "metadata": {
      "needs_background": "light"
     },
     "output_type": "display_data"
    }
   ],
   "source": [
    "plt.imshow(scan, cmap='gray')"
   ]
  },
  {
   "cell_type": "code",
   "execution_count": null,
   "id": "bb75ac0b-1de0-4f3a-b841-4c3988e6d808",
   "metadata": {},
   "outputs": [],
   "source": []
  }
 ],
 "metadata": {
  "kernelspec": {
   "display_name": "Python 3 (ipykernel)",
   "language": "python",
   "name": "python3"
  },
  "language_info": {
   "codemirror_mode": {
    "name": "ipython",
    "version": 3
   },
   "file_extension": ".py",
   "mimetype": "text/x-python",
   "name": "python",
   "nbconvert_exporter": "python",
   "pygments_lexer": "ipython3",
   "version": "3.8.13"
  }
 },
 "nbformat": 4,
 "nbformat_minor": 5
}
