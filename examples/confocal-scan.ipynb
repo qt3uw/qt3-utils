{
 "cells": [
  {
   "cell_type": "code",
   "execution_count": 1,
   "id": "e48e7862",
   "metadata": {},
   "outputs": [],
   "source": [
    "%load_ext autoreload\n",
    "%autoreload 2"
   ]
  },
  {
   "cell_type": "code",
   "execution_count": 2,
   "id": "815ca094",
   "metadata": {},
   "outputs": [],
   "source": [
    "import logging\n",
    "import nipiezojenapy\n",
    "import qt3utils.nidaq\n",
    "import qt3utils.datagenerators as datasources\n",
    "import qt3utils.datagenerators.piezoscanner\n",
    "from argparse import Namespace\n",
    "import matplotlib.pyplot as plt\n",
    "import scipy.optimize"
   ]
  },
  {
   "cell_type": "code",
   "execution_count": 3,
   "id": "7e06f7a3",
   "metadata": {},
   "outputs": [],
   "source": [
    "import qt3utils.nidaq.config"
   ]
  },
  {
   "cell_type": "code",
   "execution_count": 4,
   "id": "e1477f7f",
   "metadata": {},
   "outputs": [],
   "source": [
    "qt3utils.nidaq.config.reset_daq('Dev1')"
   ]
  },
  {
   "cell_type": "code",
   "execution_count": 5,
   "id": "a7a370ec",
   "metadata": {},
   "outputs": [],
   "source": [
    "logging.basicConfig(level = logging.INFO)\n",
    "#logging.getLogger(qt3utils.datagenerators.piezoscanner.__name__).setLevel(logging.INFO)"
   ]
  },
  {
   "cell_type": "code",
   "execution_count": 6,
   "id": "6d6edfb0",
   "metadata": {},
   "outputs": [],
   "source": [
    "args = Namespace(daq_name='Dev1', \n",
    "                 signal_terminal='PFI0', \n",
    "                 clock_rate=100000, \n",
    "                 num_data_samples_per_batch=50, \n",
    "                 clock_terminal=None, \n",
    "                 rwtimeout=10, \n",
    "                 signal_counter='ctr2', \n",
    "                 piezo_write_channels='ao0,ao1,ao2', \n",
    "                 piezo_read_channels='ai0,ai1,ai2', \n",
    "                 randomtest=False, \n",
    "                 cmap='Reds')"
   ]
  },
  {
   "cell_type": "code",
   "execution_count": 7,
   "id": "253aac3f",
   "metadata": {},
   "outputs": [],
   "source": [
    "controller = nipiezojenapy.PiezoControl(device_name = args.daq_name,\n",
    "                                  write_channels = args.piezo_write_channels.split(','),\n",
    "                                  read_channels = args.piezo_read_channels.split(','))"
   ]
  },
  {
   "cell_type": "code",
   "execution_count": 8,
   "id": "adc94f90",
   "metadata": {},
   "outputs": [],
   "source": [
    "data_acq = datasources.NiDaqSampler(args.daq_name,\n",
    "                             args.signal_terminal,\n",
    "                             args.clock_rate,\n",
    "                             args.num_data_samples_per_batch,\n",
    "                             args.clock_terminal,\n",
    "                             args.rwtimeout,\n",
    "                             args.signal_counter)"
   ]
  },
  {
   "cell_type": "code",
   "execution_count": 9,
   "id": "0bd206d8",
   "metadata": {},
   "outputs": [],
   "source": [
    "scanner = datasources.NiDaqPiezoScanner(data_acq, controller)"
   ]
  },
  {
   "cell_type": "code",
   "execution_count": 10,
   "id": "5b2cf4e1",
   "metadata": {},
   "outputs": [],
   "source": [
    "scanner.set_scan_range(0.01,40.01,0.01,40.01)"
   ]
  },
  {
   "cell_type": "code",
   "execution_count": 11,
   "id": "12dbede3",
   "metadata": {},
   "outputs": [],
   "source": [
    "scanner.reset()"
   ]
  },
  {
   "cell_type": "code",
   "execution_count": 12,
   "id": "f31ad0c3",
   "metadata": {},
   "outputs": [
    {
     "name": "stderr",
     "output_type": "stream",
     "text": [
      "INFO:nipiezojenapy.controller:go to position x: 0.01 y: 0.01\n"
     ]
    }
   ],
   "source": [
    "scanner.start()"
   ]
  },
  {
   "cell_type": "code",
   "execution_count": 13,
   "id": "d8b848c3",
   "metadata": {},
   "outputs": [
    {
     "data": {
      "text/plain": [
       "[-0.024685655065077045, -0.04658346316127078, -0.05302399495366178]"
      ]
     },
     "execution_count": 13,
     "metadata": {},
     "output_type": "execute_result"
    }
   ],
   "source": [
    "scanner.controller.get_current_position()"
   ]
  },
  {
   "cell_type": "code",
   "execution_count": null,
   "id": "15ff65d8-e99f-4493-879b-5e9b97561da8",
   "metadata": {},
   "outputs": [],
   "source": [
    "some_optimal_z = 15 #use the qt3scope tool and the nipiezojenapy tool to find an optimal z\n",
    "#OR, maybe can run a large optimize scan across all of z. see the optimize code below.\n",
    "controller.go_to_position(z = some_optimal_z)"
   ]
  },
  {
   "cell_type": "code",
   "execution_count": null,
   "id": "467faefe",
   "metadata": {},
   "outputs": [],
   "source": [
    "while scanner.still_scanning():\n",
    "            scanner.scan_x()\n",
    "            scanner.move_y()"
   ]
  },
  {
   "cell_type": "code",
   "execution_count": 26,
   "id": "82e5580f",
   "metadata": {},
   "outputs": [
    {
     "data": {
      "text/plain": [
       "<matplotlib.image.AxesImage at 0x294b0dce940>"
      ]
     },
     "execution_count": 26,
     "metadata": {},
     "output_type": "execute_result"
    },
    {
     "data": {
      "image/png": "[encoded data removed]",
      "text/plain": [
       "<Figure size 432x288 with 1 Axes>"
      ]
     },
     "metadata": {
      "needs_background": "light"
     },
     "output_type": "display_data"
    }
   ],
   "source": [
    "plt.imshow(scanner.data, cmap='gray', extent = [0.01, \n",
    "                                                40.01 + scanner.step_size, \n",
    "                                                40.01 + scanner.step_size, \n",
    "                                                0.01])"
   ]
  },
  {
   "cell_type": "code",
   "execution_count": 14,
   "id": "696d822c",
   "metadata": {},
   "outputs": [],
   "source": [
    "scanner.stop()"
   ]
  },
  {
   "cell_type": "code",
   "execution_count": null,
   "id": "3666b0d1",
   "metadata": {},
   "outputs": [],
   "source": [
    "#perform some computational magic to locate a position of interest.\n",
    "#for example, perform a convolution of the image with a mask that\n",
    "#represents your interest (for example, a single NV center that is \n",
    "#significantly isolated from other NV centers in the sample\n",
    "#https://en.wikipedia.org/wiki/Kernel_(image_processing)\n",
    "\n",
    "x_opt, y_opt = find_best_nv_center(scanner.data)\n",
    "\n",
    "controller.go_to_position(x_opt, y_opt)"
   ]
  },
  {
   "cell_type": "code",
   "execution_count": null,
   "id": "a5a49dd6-ed00-42c7-8c07-8ec22574ebd1",
   "metadata": {},
   "outputs": [],
   "source": [
    "def gauss(x, *p):\n",
    "    A, mu, sigma = p\n",
    "    return A*np.exp(-(x-mu)**2/(2.*sigma**2))\n",
    "\n",
    "def optimize(axis, start_pos, opt_range = 2, step_size = 0.25):\n",
    "    min_val = start_pos - opt_range\n",
    "    max_val = start_pos + opt_range\n",
    "    scanner.start()\n",
    "    data = scanner.scan_axis(axis, min_val, max_val, step_size)\n",
    "    scanner.stop()\n",
    "    axis_vals = np.arange(min_val, max_val, step_size)\n",
    "\n",
    "    optimal_position = axis_vals[np.argmax(data)]\n",
    "    p0 = [np.max(data), optimal_position, 1.0]\n",
    "    try:\n",
    "        coeff, var_matrix = scipy.optimize.curve_fit(gauss, axis_vals, data, p0=p0)\n",
    "        optimal_position = coeff[1]\n",
    "    except RuntimeError as e:\n",
    "        print(e)\n",
    "        \n",
    "    return optimal_position\n"
   ]
  },
  {
   "cell_type": "code",
   "execution_count": null,
   "id": "3fbdd325-6202-4c2a-8c89-242e0e05825e",
   "metadata": {},
   "outputs": [],
   "source": [
    "x_opt = optimize(axis = 'x', x_opt)\n",
    "controller.go_to_position(x = x_opt)\n",
    "\n",
    "y_opt = optimize(axis = 'y', y_opt)\n",
    "controller.go_to_position(y = y_opt)\n",
    "\n",
    "z_opt = optimize(axis = 'z', some_optimal_z)\n",
    "controller.go_to_position(z = z_opt)\n",
    "\n",
    "x_opt = optimize(axis = 'x', x_opt)\n",
    "controller.go_to_position(x = x_opt)\n",
    "\n",
    "y_opt = optimize(axis = 'y', y_opt)\n",
    "controller.go_to_position(y = y_opt)\n"
   ]
  },
  {
   "cell_type": "code",
   "execution_count": null,
   "id": "66e8a17f-1eb3-4c18-ad8b-748939be89fd",
   "metadata": {},
   "outputs": [],
   "source": [
    "data, scanvals, x_opt, fit_coef = scanner.optimize_position(axis = 'x', x_opt) #can set range and step size as well.\n",
    "controller.go_to_position(x = x_opt)\n",
    "\n",
    "data, scanvals, y_opt, fit_coef = scanner.optimize_position(axis = 'y', y_opt)\n",
    "controller.go_to_position(y = y_opt)\n",
    "\n",
    "data, scanvals, z_opt, fit_coef = scanner.optimize_position(axis = 'z', some_optimal_z)\n",
    "controller.go_to_position(z = z_opt)\n",
    "\n",
    "data, scanvals, x_opt, fit_coef = scanner.optimize_position(axis = 'x', x_opt)\n",
    "controller.go_to_position(x = x_opt)\n",
    "\n",
    "data, scanvals, y_opt, fit_coef = scanner.optimize_position(axis = 'y', y_opt)\n",
    "controller.go_to_position(y = y_opt)"
   ]
  },
  {
   "cell_type": "code",
   "execution_count": null,
   "id": "335e39bb-3382-4fc8-ac07-adf03e578403",
   "metadata": {},
   "outputs": [],
   "source": []
  },
  {
   "cell_type": "code",
   "execution_count": null,
   "id": "26081e18-e69f-4d56-a10d-75ec41d5e75f",
   "metadata": {},
   "outputs": [],
   "source": []
  }
 ],
 "metadata": {
  "kernelspec": {
   "display_name": "Python 3 (ipykernel)",
   "language": "python",
   "name": "python3"
  },
  "language_info": {
   "codemirror_mode": {
    "name": "ipython",
    "version": 3
   },
   "file_extension": ".py",
   "mimetype": "text/x-python",
   "name": "python",
   "nbconvert_exporter": "python",
   "pygments_lexer": "ipython3",
   "version": "3.8.13"
  }
 },
 "nbformat": 4,
 "nbformat_minor": 5
}
