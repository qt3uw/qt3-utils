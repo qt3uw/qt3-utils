{
 "cells": [
  {
   "cell_type": "markdown",
   "id": "84edc1c2",
   "metadata": {},
   "source": [
    "# Confocal Scan"
   ]
  },
  {
   "cell_type": "code",
   "execution_count": 2,
   "id": "815ca094",
   "metadata": {},
   "outputs": [],
   "source": [
    "import logging\n",
    "from argparse import Namespace\n",
    "import matplotlib.pyplot as plt"
   ]
  },
  {
   "cell_type": "code",
   "execution_count": 3,
   "id": "7e06f7a3",
   "metadata": {},
   "outputs": [],
   "source": [
    "import nipiezojenapy\n",
    "import qt3utils.nidaq\n",
    "import qt3utils.datagenerators as datasources\n",
    "import qt3utils.datagenerators.piezoscanner\n",
    "import qt3utils.nidaq.config"
   ]
  },
  {
   "cell_type": "code",
   "execution_count": 5,
   "id": "a7a370ec",
   "metadata": {},
   "outputs": [],
   "source": [
    "logging.basicConfig(level = logging.INFO) #set to logging.WARNING to suppress logged information to cells"
   ]
  },
  {
   "cell_type": "code",
   "execution_count": 6,
   "id": "6d6edfb0",
   "metadata": {},
   "outputs": [],
   "source": [
    "args = Namespace(daq_name='Dev1', \n",
    "                 signal_terminal='PFI0', \n",
    "                 clock_rate=100000, \n",
    "                 num_data_samples_per_batch=50, \n",
    "                 clock_terminal=None, \n",
    "                 rwtimeout=10, \n",
    "                 signal_counter='ctr2', \n",
    "                 piezo_write_channels='ao0,ao1,ao2', \n",
    "                 piezo_read_channels='ai0,ai1,ai2', \n",
    "                 randomtest=False, \n",
    "                 cmap='Greys_r')"
   ]
  },
  {
   "cell_type": "code",
   "execution_count": 7,
   "id": "253aac3f",
   "metadata": {},
   "outputs": [],
   "source": [
    "controller = nipiezojenapy.PiezoControl(device_name = args.daq_name,\n",
    "                                  write_channels = args.piezo_write_channels.split(','),\n",
    "                                  read_channels = args.piezo_read_channels.split(','))"
   ]
  },
  {
   "cell_type": "code",
   "execution_count": 8,
   "id": "adc94f90",
   "metadata": {},
   "outputs": [],
   "source": [
    "data_acq = datasources.NiDaqDigitalInputRateCounter(args.daq_name,\n",
    "                             args.signal_terminal,\n",
    "                             args.clock_rate,\n",
    "                             args.num_data_samples_per_batch,\n",
    "                             args.clock_terminal,\n",
    "                             args.rwtimeout,\n",
    "                             args.signal_counter)"
   ]
  },
  {
   "cell_type": "code",
   "execution_count": 9,
   "id": "0bd206d8",
   "metadata": {},
   "outputs": [],
   "source": [
    "scanner = datasources.NiDaqPiezoScanner(data_acq, controller)"
   ]
  },
  {
   "cell_type": "code",
   "execution_count": 10,
   "id": "5b2cf4e1",
   "metadata": {},
   "outputs": [],
   "source": [
    "scanner.set_scan_range(40, 60, 40, 60)"
   ]
  },
  {
   "cell_type": "code",
   "execution_count": 14,
   "id": "7f25930e",
   "metadata": {},
   "outputs": [
    {
     "data": {
      "text/plain": [
       "{'running': False,\n",
       " 'current_y': 0,\n",
       " 'ymin': 40,\n",
       " 'ymax': 60,\n",
       " 'xmin': 40,\n",
       " 'xmax': 60,\n",
       " 'step_size': 0.5,\n",
       " 'raster_line_pause': 0.15,\n",
       " 'data': [],\n",
       " 'controller': <nipiezojenapy.controller.PiezoControl at 0x2016b737400>,\n",
       " 'num_daq_batches': 1,\n",
       " 'ratecounter': <qt3utils.datagenerators.daqsamplers.NiDaqDigitalInputRateCounter at 0x2016b6b3190>}"
      ]
     },
     "execution_count": 14,
     "metadata": {},
     "output_type": "execute_result"
    }
   ],
   "source": [
    "scanner.__dict__"
   ]
  },
  {
   "cell_type": "code",
   "execution_count": 15,
   "id": "d8b848c3",
   "metadata": {},
   "outputs": [
    {
     "data": {
      "text/plain": [
       "[0.04567673118400789, 0.004451061808055372, -0.05223423357139445]"
      ]
     },
     "execution_count": 15,
     "metadata": {},
     "output_type": "execute_result"
    }
   ],
   "source": [
    "controller.get_current_position()"
   ]
  },
  {
   "cell_type": "code",
   "execution_count": 18,
   "id": "15ff65d8-e99f-4493-879b-5e9b97561da8",
   "metadata": {},
   "outputs": [
    {
     "name": "stderr",
     "output_type": "stream",
     "text": [
      "INFO:nipiezojenapy.controller:go to position z: 15.00\n"
     ]
    }
   ],
   "source": [
    "some_optimal_z = 15 #use the qt3scope tool and the nipiezojenapy tool to find an optimal z\n",
    "#OR, maybe can run a large optimize scan across all of z. see the optimize code below.\n",
    "controller.go_to_position(z = some_optimal_z)"
   ]
  },
  {
   "cell_type": "code",
   "execution_count": 16,
   "id": "d4a565aa",
   "metadata": {},
   "outputs": [
    {
     "name": "stderr",
     "output_type": "stream",
     "text": [
      "INFO:nipiezojenapy.controller:go to position x: 40.00 y: 40.00\n"
     ]
    }
   ],
   "source": [
    "scanner.set_to_starting_position()"
   ]
  },
  {
   "cell_type": "code",
   "execution_count": 20,
   "id": "c78a079c",
   "metadata": {},
   "outputs": [
    {
     "data": {
      "text/plain": [
       "[39.97804581427617, 40.04503830190768, 15.03121610872722]"
      ]
     },
     "execution_count": 20,
     "metadata": {},
     "output_type": "execute_result"
    }
   ],
   "source": [
    "controller.get_current_position()"
   ]
  },
  {
   "cell_type": "code",
   "execution_count": 21,
   "id": "8bc7acf9",
   "metadata": {},
   "outputs": [],
   "source": [
    "scanner.start()"
   ]
  },
  {
   "cell_type": "code",
   "execution_count": null,
   "id": "467faefe",
   "metadata": {},
   "outputs": [],
   "source": [
    "while scanner.still_scanning():\n",
    "            scanner.scan_x()\n",
    "            scanner.move_y()\n",
    "            \n",
    "#the output of this cell has been removed. Normally, with loglevel = INFO, each step of the scan prints a few lines of information"
   ]
  },
  {
   "cell_type": "code",
   "execution_count": 51,
   "id": "696d822c",
   "metadata": {},
   "outputs": [],
   "source": [
    "scanner.stop()"
   ]
  },
  {
   "cell_type": "code",
   "execution_count": 28,
   "id": "82e5580f",
   "metadata": {},
   "outputs": [
    {
     "data": {
      "text/plain": [
       "<matplotlib.image.AxesImage at 0x20109aad760>"
      ]
     },
     "execution_count": 28,
     "metadata": {},
     "output_type": "execute_result"
    },
    {
     "data": {
      "image/png": "[encoded data removed]",
      "text/plain": [
       "<Figure size 432x288 with 1 Axes>"
      ]
     },
     "metadata": {
      "needs_background": "light"
     },
     "output_type": "display_data"
    }
   ],
   "source": [
    "plt.imshow(scanner.data, cmap='Reds', extent = [40, 60, 60, 40])"
   ]
  },
  {
   "cell_type": "code",
   "execution_count": 30,
   "id": "3666b0d1",
   "metadata": {},
   "outputs": [
    {
     "name": "stderr",
     "output_type": "stream",
     "text": [
      "INFO:nipiezojenapy.controller:go to position x: 46.00 y: 43.00\n"
     ]
    }
   ],
   "source": [
    "#perform some computational magic to locate a position of interest.\n",
    "#for example, perform a convolution of the image with a mask that\n",
    "#represents your interest (for example, a single NV center that is \n",
    "#significantly isolated from other NV centers in the sample\n",
    "#https://en.wikipedia.org/wiki/Kernel_(image_processing)\n",
    "\n",
    "#x_opt, y_opt = find_best_nv_center(scanner.data)\n",
    "x_opt = 46\n",
    "y_opt = 43\n",
    "controller.go_to_position(x_opt, y_opt)"
   ]
  },
  {
   "cell_type": "code",
   "execution_count": null,
   "id": "66e8a17f-1eb3-4c18-ad8b-748939be89fd",
   "metadata": {},
   "outputs": [],
   "source": [
    "data, scanvals, x_opt, fit_coef = scanner.optimize_position('x', x_opt, width = 2, step_size = 0.25)\n",
    "controller.go_to_position(x = x_opt)\n",
    "\n",
    "data, scanvals, y_opt, fit_coef = scanner.optimize_position('y', y_opt)\n",
    "controller.go_to_position(y = y_opt)\n",
    "\n",
    "data, scanvals, z_opt, fit_coef = scanner.optimize_position('z', controller.get_current_position()[2], width = 10)\n",
    "controller.go_to_position(z = z_opt)\n",
    "\n",
    "data, scanvals, x_opt, fit_coef = scanner.optimize_position('x', x_opt)\n",
    "controller.go_to_position(x = x_opt)\n",
    "\n",
    "data, scanvals, y_opt, fit_coef = scanner.optimize_position('y', y_opt)\n",
    "controller.go_to_position(y = y_opt)\n",
    "\n",
    "#the log output of this cell has been omitted"
   ]
  },
  {
   "cell_type": "code",
   "execution_count": 33,
   "id": "335e39bb-3382-4fc8-ac07-adf03e578403",
   "metadata": {},
   "outputs": [
    {
     "data": {
      "text/plain": [
       "[44.38667251599523, 43.42043245163783, 15.049252369319495]"
      ]
     },
     "execution_count": 33,
     "metadata": {},
     "output_type": "execute_result"
    }
   ],
   "source": [
    "controller.get_current_position()"
   ]
  },
  {
   "cell_type": "markdown",
   "id": "4840df30-2b6d-4e11-8cba-1013f622021a",
   "metadata": {},
   "source": [
    "#### Now at an optimized position, one could then perform other experiments"
   ]
  },
  {
   "cell_type": "code",
   "execution_count": null,
   "id": "372e9cfa-e8ff-4500-93df-8b3d377f5148",
   "metadata": {},
   "outputs": [],
   "source": [
    "# pulser = qcsapphire.Pulser('COM4')\n",
    "# rfsynth = qt3rfsynthcontrol.QT3SynthHD('COM5')\n",
    "# nidaq_config = qt3utils.nidaq.EdgeCounter('Dev1')\n",
    "\n",
    "# experiment = qt3utils.experiments.podmr.PulsedODMR(pulser, rfsynth, nidaq_config, \n",
    "#                                                    photon_counter_nidaq_terminal = 'PFI0',\n",
    "#                                                    clock_nidaq_terminal = 'PFI12',\n",
    "#                                                    rf_pulse_duration = 1e-6, \n",
    "#                                                    rf_power = -25, \n",
    "#                                                    aom_width = 5e-6)\n",
    "# pulsed_odmr_scan_data = experiment.run(N_cycles=10000)"
   ]
  },
  {
   "cell_type": "markdown",
   "id": "bd62f50b-45d4-45c5-b4fc-e2dcc9a7553a",
   "metadata": {},
   "source": [
    "# Save Data"
   ]
  },
  {
   "cell_type": "code",
   "execution_count": 47,
   "id": "fc77c271",
   "metadata": {},
   "outputs": [],
   "source": [
    "scan_data = {'ymin':scanner.ymin, 'ymax':scanner.ymax, \n",
    "             'xmin':scanner.xmin, 'xmax':scanner.xmax,\n",
    "            'confocal_scan_data':scanner.data}\n",
    "\n",
    "#scan_data['podmr'] = pulsed_odmr_scan_data"
   ]
  },
  {
   "cell_type": "code",
   "execution_count": 48,
   "id": "1ba7a334",
   "metadata": {},
   "outputs": [],
   "source": [
    "import pickle \n",
    "myfilename = 'ppm_sample_oct4_2022_1mW.pickle'\n",
    "with open(myfilename, 'wb') as handle:\n",
    "    pickle.dump(scan_data, handle, protocol=pickle.HIGHEST_PROTOCOL)"
   ]
  },
  {
   "cell_type": "markdown",
   "id": "8f318254-c29e-4242-be39-bc3f0cf99167",
   "metadata": {},
   "source": [
    "# Load and Plot Data"
   ]
  },
  {
   "cell_type": "code",
   "execution_count": 49,
   "id": "17421779",
   "metadata": {},
   "outputs": [],
   "source": [
    "with open(myfilename, 'rb') as handle:\n",
    "    loaded_scan_data = pickle.load(handle)"
   ]
  },
  {
   "cell_type": "code",
   "execution_count": 50,
   "id": "fa0ab85b",
   "metadata": {},
   "outputs": [
    {
     "data": {
      "text/plain": [
       "<matplotlib.image.AxesImage at 0x2010a2c4970>"
      ]
     },
     "execution_count": 50,
     "metadata": {},
     "output_type": "execute_result"
    },
    {
     "data": {
      "image/png": "[encoded data removed]",
      "text/plain": [
       "<Figure size 432x288 with 1 Axes>"
      ]
     },
     "metadata": {
      "needs_background": "light"
     },
     "output_type": "display_data"
    }
   ],
   "source": [
    "xmin = loaded_scan_data['xmin']\n",
    "xmax = loaded_scan_data['xmax']\n",
    "ymin = loaded_scan_data['ymin']\n",
    "ymax = loaded_scan_data['ymax']\n",
    "\n",
    "plt.imshow(loaded_scan_data['confocal_scan_data'], cmap='Reds', extent = [xmin, xmax, ymax, ymin])"
   ]
  },
  {
   "cell_type": "code",
   "execution_count": null,
   "id": "cb8761b5",
   "metadata": {},
   "outputs": [],
   "source": []
  }
 ],
 "metadata": {
  "kernelspec": {
   "display_name": "Python 3 (ipykernel)",
   "language": "python",
   "name": "python3"
  },
  "language_info": {
   "codemirror_mode": {
    "name": "ipython",
    "version": 3
   },
   "file_extension": ".py",
   "mimetype": "text/x-python",
   "name": "python",
   "nbconvert_exporter": "python",
   "pygments_lexer": "ipython3",
   "version": "3.8.13"
  }
 },
 "nbformat": 4,
 "nbformat_minor": 5
}
