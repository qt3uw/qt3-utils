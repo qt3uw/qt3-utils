{
 "cells": [
  {
   "cell_type": "code",
   "execution_count": null,
   "id": "0af691ca",
   "metadata": {},
   "outputs": [],
   "source": [
    "import nipiezojenapy\n",
    "from qt3utils.datagenerators.princeton_spectromers import HSR750"
   ]
  },
  {
   "cell_type": "code",
   "execution_count": null,
   "id": "691bf47a",
   "metadata": {},
   "outputs": [],
   "source": [
    "piezo_write_channels='ao0,ao1,ao2'\n",
    "piezo_read_channels='ai0,ai1,ai2' "
   ]
  },
  {
   "cell_type": "code",
   "execution_count": null,
   "id": "a42c5e0c",
   "metadata": {},
   "outputs": [],
   "source": [
    "controller = nipiezojenapy.PiezoControl(device_name = 'Dev1',\n",
    "                                  write_channels = piezo_write_channels.split(','),\n",
    "                                  read_channels = piezo_read_channels.split(','))"
   ]
  },
  {
   "cell_type": "code",
   "execution_count": null,
   "id": "7e7fef5f",
   "metadata": {},
   "outputs": [],
   "source": [
    "spectrometer = HSR750()\n",
    "#set all the settings you need\n",
    "spectrometer.start_wavelength = 600  # nm\n",
    "spectrometer.end_wavelength = 950  # nm\n",
    "spectromter.exposure_time = 0.5  # seconds\n",
    "\n",
    "spectromter.load_settings()"
   ]
  },
  {
   "cell_type": "code",
   "execution_count": null,
   "id": "35cd0746",
   "metadata": {},
   "outputs": [],
   "source": [
    "scan_spectrum = []\n",
    "z = 43\n",
    "\n",
    "for x in range(0,10):\n",
    "    for y in range(0,10):\n",
    "\n",
    "        controller.go_to_position(x,y,z)\n",
    "        spectrometer.take_spectrum()\n",
    "        data = spectrometer.get_current_spectrum()\n",
    "        scan_spectrum.append([x,y,z], data)\n"
   ]
  },
  {
   "cell_type": "code",
   "execution_count": null,
   "id": "d431aaea",
   "metadata": {},
   "outputs": [],
   "source": []
  }
 ],
 "metadata": {
  "kernelspec": {
   "display_name": "Python 3 (ipykernel)",
   "language": "python",
   "name": "python3"
  },
  "language_info": {
   "codemirror_mode": {
    "name": "ipython",
    "version": 3
   },
   "file_extension": ".py",
   "mimetype": "text/x-python",
   "name": "python",
   "nbconvert_exporter": "python",
   "pygments_lexer": "ipython3",
   "version": "3.9.16"
  }
 },
 "nbformat": 4,
 "nbformat_minor": 5
}
