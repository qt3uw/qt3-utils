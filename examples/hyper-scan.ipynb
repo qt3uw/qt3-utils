{
 "cells": [
  {
   "cell_type": "code",
   "execution_count": 38,
   "metadata": {},
   "outputs": [],
   "source": [
    "import os\n",
    "import sys\n",
    "\n",
    "%matplotlib inline\n",
    "import matplotlib.pyplot as plt\n",
    "\n",
    "import pickle\n",
    "import nipiezojenapy\n",
    "import numpy as np\n",
    "\n",
    "module_path = os.path.abspath(os.path.join('..', 'src', 'qt3utils', 'datagenerators'))\n",
    "sys.path.append(module_path)\n",
    "\n",
    "from princeton import Spectrometer\n"
   ]
  },
  {
   "cell_type": "code",
   "execution_count": 16,
   "metadata": {},
   "outputs": [],
   "source": [
    "piezo_write_channels='ao0,ao1,ao2'\n",
    "piezo_read_channels='ai0,ai1,ai2' \n",
    "\n",
    "controller = nipiezojenapy.PiezoControl(device_name = 'Dev1',\n",
    "                                  write_channels = piezo_write_channels.split(','),\n",
    "                                  read_channels = piezo_read_channels.split(','))\n"
   ]
  },
  {
   "cell_type": "code",
   "execution_count": 17,
   "metadata": {},
   "outputs": [],
   "source": [
    "s = Spectrometer()\n",
    "s.initialize()"
   ]
  },
  {
   "cell_type": "code",
   "execution_count": 18,
   "metadata": {},
   "outputs": [
    {
     "name": "stdout",
     "output_type": "stream",
     "text": [
      "Exposure time: 2000.0ms\n",
      "Sensor temperature setpoint: -70.0 C\n",
      "Sensor temperature: -70.0 C\n",
      "Number of frames: 1\n",
      "Grating: [500nm,300][2][0]\n"
     ]
    }
   ],
   "source": [
    "# This relies on user input\n",
    "\n",
    "s.exposure_time = 2000.0 \n",
    "print('Exposure time: {}ms'.format(s.exposure_time))\n",
    "\n",
    "s.num_frames = \"1\"\n",
    "print('Sensor temperature setpoint: {} C'.format(s.sensor_setpoint))\n",
    "\n",
    "s.sensor_setpoint = -70.0\n",
    "print('Sensor temperature: {} C'.format(s.sensor_temperature))\n",
    "\n",
    "s.center_wavelength = 700.0\n",
    "print('Number of frames: {}'.format(s.num_frames))\n",
    "\n",
    "print('Grating: {}'.format(s.grating))"
   ]
  },
  {
   "cell_type": "code",
   "execution_count": 19,
   "metadata": {},
   "outputs": [],
   "source": [
    "# Most values here rely on user input as well\n",
    "\n",
    "hyperspectral_im = None\n",
    "z = 43\n",
    "xs = np.linspace(50, 60, num=5)\n",
    "ys = np.linspace(45, 55, num=5)\n",
    "for i, x in enumerate(xs):\n",
    "    for j, y in enumerate(ys):\n",
    "        controller.go_to_position(x,y,z)\n",
    "        spectrum, wavelength = s.acquire_step_and_glue([600.0, 850.0])\n",
    "        if i==0 and j==0:\n",
    "            hyperspectral_im = np.zeros((xs.shape[0], ys.shape[0], spectrum.shape[0]))\n",
    "        hyperspectral_im[i, j, :] = spectrum\n",
    "\n",
    "mean_spectrum = np.mean(hyperspectral_im, axis=2)"
   ]
  },
  {
   "cell_type": "code",
   "execution_count": 34,
   "metadata": {},
   "outputs": [
    {
     "data": {
      "text/plain": [
       "<matplotlib.image.AxesImage at 0x28f3eed37c0>"
      ]
     },
     "execution_count": 34,
     "metadata": {},
     "output_type": "execute_result"
    },
    {
     "data": {
      "image/png": "[encoded data removed]",
      "text/plain": [
       "<Figure size 640x480 with 1 Axes>"
      ]
     },
     "metadata": {},
     "output_type": "display_data"
    }
   ],
   "source": [
    "# This is mock data and a real sample was not used. This is just to demo the software\n",
    "\n",
    "plt.imshow(mean_spectrum, cmap='Reds', interpolation='nearest')"
   ]
  },
  {
   "attachments": {},
   "cell_type": "markdown",
   "metadata": {},
   "source": [
    "### Save wavelength and data"
   ]
  },
  {
   "cell_type": "code",
   "execution_count": 36,
   "metadata": {},
   "outputs": [],
   "source": [
    "d = {\"wavelength\":wavelength, \"im\":hyperspectral_im}\n",
    "\n",
    "with open('3D_data.pkl', 'wb') as f:\n",
    "    pickle.dump(d, f)"
   ]
  },
  {
   "cell_type": "code",
   "execution_count": 21,
   "metadata": {},
   "outputs": [
    {
     "name": "stdout",
     "output_type": "stream",
     "text": [
      "Closed AddInProcess.exe\n"
     ]
    }
   ],
   "source": [
    "s.finalize()"
   ]
  }
 ],
 "metadata": {
  "kernelspec": {
   "display_name": "qt3_specscan",
   "language": "python",
   "name": "python3"
  },
  "language_info": {
   "codemirror_mode": {
    "name": "ipython",
    "version": 3
   },
   "file_extension": ".py",
   "mimetype": "text/x-python",
   "name": "python",
   "nbconvert_exporter": "python",
   "pygments_lexer": "ipython3",
   "version": "3.9.16"
  },
  "orig_nbformat": 4
 },
 "nbformat": 4,
 "nbformat_minor": 2
}
