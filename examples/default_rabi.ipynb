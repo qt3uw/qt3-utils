{
 "cells": [
  {
   "cell_type": "code",
   "execution_count": 1,
   "id": "e32d832f-11ce-425a-a843-6710715599d4",
   "metadata": {},
   "outputs": [],
   "source": [
    "%load_ext autoreload\n",
    "%autoreload 2"
   ]
  },
  {
   "cell_type": "code",
   "execution_count": 2,
   "id": "5deb10f0-bd1a-4074-9baa-68f3272532e6",
   "metadata": {},
   "outputs": [],
   "source": [
    "import numpy as np\n",
    "import matplotlib.pyplot as plt\n",
    "import time\n",
    "from scipy import optimize\n",
    "\n",
    "import logging\n"
   ]
  },
  {
   "cell_type": "code",
   "execution_count": 3,
   "id": "adc5e615-9c6a-44d0-8028-1e5a7108c379",
   "metadata": {},
   "outputs": [],
   "source": [
    "import qt3utils.experiments.rabi\n",
    "from qt3utils.analysis.rabi import signal_to_background\n",
    "import qt3utils.analysis.aggregation\n",
    "import qt3utils.nidaq\n",
    "import qcsapphire\n",
    "import qt3rfsynthcontrol"
   ]
  },
  {
   "cell_type": "markdown",
   "id": "d6279be5",
   "metadata": {},
   "source": [
    "# Set Logging Levels\n",
    "\n",
    "This controls output print statements, which can be useful for debugging and knowing that scans are running"
   ]
  },
  {
   "cell_type": "code",
   "execution_count": 4,
   "id": "dd867c9d-fa25-4665-bf98-01a7252a4f80",
   "metadata": {},
   "outputs": [],
   "source": [
    "logging.basicConfig(level=logging.WARNING)"
   ]
  },
  {
   "cell_type": "code",
   "execution_count": 5,
   "id": "26841f31-29d9-4658-8139-057e16173f04",
   "metadata": {},
   "outputs": [],
   "source": [
    "qt3utils.experiments.rabi.logger.setLevel(logging.INFO)"
   ]
  },
  {
   "cell_type": "markdown",
   "id": "fa41b142",
   "metadata": {},
   "source": [
    "# Create objects to control hardware"
   ]
  },
  {
   "cell_type": "code",
   "execution_count": 6,
   "id": "f6c2c777-b08c-4b90-b1ea-a2a5b52c034c",
   "metadata": {},
   "outputs": [],
   "source": [
    "pulser = qcsapphire.Pulser('COM4')\n",
    "rfsynth = qt3rfsynthcontrol.QT3SynthHD('COM5')"
   ]
  },
  {
   "cell_type": "code",
   "execution_count": 7,
   "id": "2aa0bf11-f69d-46f7-99e1-9afff16cf2a5",
   "metadata": {},
   "outputs": [],
   "source": [
    "nidaq_config = qt3utils.nidaq.EdgeCounter('Dev1')"
   ]
  },
  {
   "cell_type": "markdown",
   "id": "d5c324a8",
   "metadata": {},
   "source": [
    "# Define a number of useful functions for later"
   ]
  },
  {
   "cell_type": "code",
   "execution_count": 9,
   "id": "74d01c99-7219-4b27-b2e6-4b1cea60364e",
   "metadata": {},
   "outputs": [],
   "source": [
    "def aggregate_mean_data(data_buffer, rabi):\n",
    "    '''\n",
    "    Calls qt3utils.analysis.aggregation.reshape_sum_trace, where\n",
    "        cwodmr.N_cycles = N_rows\n",
    "        cwodmr.N_clock_ticks_per_cycle = N_samples_per_row\n",
    "\n",
    "    '''\n",
    "    return qt3utils.analysis.aggregation.reshape_mean_trace(data_buffer,\n",
    "                                                           rabi.N_cycles,\n",
    "                                                           rabi.N_clock_ticks_per_cycle)"
   ]
  },
  {
   "cell_type": "code",
   "execution_count": 10,
   "id": "a3515d4b-439e-4d25-ab09-1b472b43643a",
   "metadata": {},
   "outputs": [],
   "source": [
    "def recombine_scans(set_of_scans):\n",
    "    #creates dictionary where key = rf_width, and value is an empty numpy array\n",
    "    #that will be filled in the loop below\n",
    "    combined_scans = {s[0]:np.zeros(s[1].shape[0]) for s in set_of_scans[0]}\n",
    "\n",
    "    for scan in set_of_scans:\n",
    "        for read in scan:\n",
    "            width = read[0]\n",
    "            data = read[1]\n",
    "            combined_scans[width] += data #add the data from the scan to the approprate array \n",
    "\n",
    "    #transform the combined_scans dictionary to a list of lists in the same format as the data from each single scan. \n",
    "    reconstructed_scan = [[s, combined_scans[s]] for s in sorted(list(combined_scans.keys()))]\n",
    "    return reconstructed_scan"
   ]
  },
  {
   "cell_type": "code",
   "execution_count": 11,
   "id": "5ed97167-efe2-43c9-bb7b-c3864d11df19",
   "metadata": {},
   "outputs": [],
   "source": [
    "def plot_rolled_trace(trace, N_cycles=1, clock_rate=1, shift=0):\n",
    "    trace = np.roll(trace,shift)\n",
    "    plt.plot(np.arange(len(trace)) / clock_rate, trace/N_cycles * clock_rate)"
   ]
  },
  {
   "cell_type": "code",
   "execution_count": 12,
   "id": "cb89855b-c25c-4672-a60d-f7995cb1acdf",
   "metadata": {},
   "outputs": [],
   "source": [
    "def signal_to_background(trace, pre_trigger, aom_width, rf_width, post_rf_pad, verbose=False,\n",
    "                        signal_aom_width_duty = 1.0, background_aom_width_duty = 1.0,\n",
    "                        aggregation = np.sum):\n",
    "    '''\n",
    "    Assumes trace produced by qt3utils.experiments.rabi.Rabi class and\n",
    "    is the aggregated data for a particular RF width.\n",
    "\n",
    "    The inputs `pre_trigger`, `aom_width` and `rf_width` are all in units of index of the trace.\n",
    "    That is, they are in units of clock ticks.\n",
    "\n",
    "    Assumes that trace is of shape\n",
    "        * pre_trigger\n",
    "        * aom_width: aom on / rf off (background)\n",
    "        * rf_width:  aom off / rf on\n",
    "        * aom_width: aom on/ rf off  (signal)\n",
    "\n",
    "    returns sum(signal) / sum(background)\n",
    "\n",
    "    '''\n",
    "    background_end = pre_trigger + int(aom_width*background_aom_width_duty)\n",
    "    signal_start = pre_trigger + aom_width + rf_width + post_rf_pad\n",
    "    signal_end = signal_start + int(aom_width*signal_aom_width_duty)\n",
    "\n",
    "    background = aggregation(trace[pre_trigger:background_end])\n",
    "    signal = aggregation(trace[signal_start:signal_end])\n",
    "\n",
    "    if verbose:\n",
    "        print('background')\n",
    "        print(trace[pre_trigger:background_end])\n",
    "        print('signal')\n",
    "        print(trace[signal_start:signal_end])\n",
    "\n",
    "    return signal / background\n",
    "\n"
   ]
  },
  {
   "cell_type": "code",
   "execution_count": 13,
   "id": "dad6e389-c8a6-40c9-bfe6-4ada59cfecb9",
   "metadata": {},
   "outputs": [],
   "source": [
    "def build_contrast(single_scan, pre_trigger = 2, signal_duty=0.5, background_duty=0.5):\n",
    "\n",
    "    contrast = []\n",
    "\n",
    "    for measurement in single_scan:\n",
    "\n",
    "        rf_width_time = measurement[0]\n",
    "        N_samples_per_cycle = measurement[1]\n",
    "        clock_period = rabi.clock_period\n",
    "        aom_width_time = rabi.aom_width\n",
    "        summed_trace = measurement[2]\n",
    "\n",
    "        aom_width_ticks = np.round(aom_width_time / clock_period).astype(int)\n",
    "        rf_width_ticks = np.round(rf_width_time / clock_period).astype(int)\n",
    "        post_rf_pad_ticks = np.round(rabi.post_rf_pad / clock_period).astype(int)\n",
    "\n",
    "        c = signal_to_background(summed_trace, \n",
    "                                 pre_trigger, \n",
    "                                 aom_width_ticks, \n",
    "                                 rf_width_ticks, \n",
    "                                 post_rf_pad_ticks,\n",
    "                                 signal_aom_width_duty = signal_duty, \n",
    "                                 background_aom_width_duty = background_duty , aggregation = np.mean)\n",
    "\n",
    "        contrast.append([rf_width_time, c]) \n",
    "\n",
    "    contrast = np.array(contrast)\n",
    "    return contrast"
   ]
  },
  {
   "cell_type": "markdown",
   "id": "2fd773d3",
   "metadata": {},
   "source": [
    "# Instantiate an experiment object"
   ]
  },
  {
   "cell_type": "code",
   "execution_count": 8,
   "id": "51e8760f-277c-49f1-8eae-097a56b14305",
   "metadata": {},
   "outputs": [],
   "source": [
    "rabi = qt3utils.experiments.rabi.Rabi(pulser, rfsynth, nidaq_config, rf_width_high = 15e-6, rf_power = -10,\n",
    "                                     rf_frequency=2873e6)"
   ]
  },
  {
   "cell_type": "code",
   "execution_count": 15,
   "id": "f3086faa-23a1-44ba-abc4-50d6e8b1865c",
   "metadata": {},
   "outputs": [
    {
     "data": {
      "text/plain": [
       "{'rf_width_low': 1e-07,\n",
       " 'rf_width_high': 1.5e-05,\n",
       " 'rf_width_step': 5e-08,\n",
       " 'rf_power': -10,\n",
       " 'rf_frequency': 2873000000.0,\n",
       " 'aom_width': 3e-06,\n",
       " 'aom_response_time': 8e-07,\n",
       " 'rf_response_time': 2e-07,\n",
       " 'post_rf_pad': 1e-07,\n",
       " 'pre_rf_pad': 1e-07,\n",
       " 'full_cycle_width': 2e-05,\n",
       " 'clock_period': 2e-07}"
      ]
     },
     "execution_count": 15,
     "metadata": {},
     "output_type": "execute_result"
    }
   ],
   "source": [
    "rabi.experimental_conditions()"
   ]
  },
  {
   "cell_type": "markdown",
   "id": "664fbbd9",
   "metadata": {},
   "source": [
    "## Change some parameters if you wish"
   ]
  },
  {
   "cell_type": "code",
   "execution_count": null,
   "id": "77bc93c0",
   "metadata": {},
   "outputs": [],
   "source": [
    "#modify these as you see fit\n",
    "\n",
    "rabi.rf_power = -30\n",
    "#rabi.aom_width = 5e-6\n",
    "rabi.rf_width_high = 15e-6\n",
    "rabi.rf_width_low =  200e-9 #can go as low as 20e-9 and 20e-9 step size!  But if RF power is ~-30dB, 200ns step size is fine\n",
    "rabi.rf_width_step = 200e-9\n",
    "rabi.full_cycle_width = rabi.aom_width + rabi.rf_width_high + 1e-6 #make sure our full pulse width cycle is large enough..."
   ]
  },
  {
   "cell_type": "markdown",
   "id": "84dfbf48",
   "metadata": {},
   "source": [
    "# Take Data"
   ]
  },
  {
   "cell_type": "code",
   "execution_count": 17,
   "id": "6766a6d0-2747-4ff6-ae2d-6869d6d5a1b8",
   "metadata": {},
   "outputs": [
    {
     "name": "stdout",
     "output_type": "stream",
     "text": [
      "{'rf_width_low': 5e-07, 'rf_width_high': 1.5e-05, 'rf_width_step': 5e-07, 'rf_power': -30, 'rf_frequency': 2873000000.0, 'aom_width': 3e-06, 'aom_response_time': 8e-07, 'rf_response_time': 2e-07, 'post_rf_pad': 1e-07, 'pre_rf_pad': 1e-07, 'full_cycle_width': 2e-05, 'clock_period': 2e-07}\n",
      "0\n"
     ]
    },
    {
     "name": "stderr",
     "output_type": "stream",
     "text": [
      "INFO:qt3utils.experiments.rabi:RF Width: 5e-07 seconds\n",
      "INFO:qt3utils.experiments.rabi:RF Width: 1e-06 seconds\n",
      "INFO:qt3utils.experiments.rabi:RF Width: 1.5e-06 seconds\n",
      "INFO:qt3utils.experiments.rabi:RF Width: 2e-06 seconds\n",
      "INFO:qt3utils.experiments.rabi:RF Width: 2.5e-06 seconds\n",
      "INFO:qt3utils.experiments.rabi:RF Width: 3e-06 seconds\n",
      "INFO:qt3utils.experiments.rabi:RF Width: 3.5e-06 seconds\n",
      "INFO:qt3utils.experiments.rabi:RF Width: 4e-06 seconds\n",
      "INFO:qt3utils.experiments.rabi:RF Width: 4.5e-06 seconds\n",
      "INFO:qt3utils.experiments.rabi:RF Width: 5e-06 seconds\n",
      "INFO:qt3utils.experiments.rabi:RF Width: 5.5e-06 seconds\n",
      "INFO:qt3utils.experiments.rabi:RF Width: 6e-06 seconds\n",
      "INFO:qt3utils.experiments.rabi:RF Width: 6.5e-06 seconds\n",
      "INFO:qt3utils.experiments.rabi:RF Width: 7e-06 seconds\n",
      "INFO:qt3utils.experiments.rabi:RF Width: 7.5e-06 seconds\n",
      "INFO:qt3utils.experiments.rabi:RF Width: 8e-06 seconds\n",
      "INFO:qt3utils.experiments.rabi:RF Width: 8.5e-06 seconds\n",
      "INFO:qt3utils.experiments.rabi:RF Width: 9e-06 seconds\n",
      "INFO:qt3utils.experiments.rabi:RF Width: 9.5e-06 seconds\n",
      "INFO:qt3utils.experiments.rabi:RF Width: 1e-05 seconds\n",
      "INFO:qt3utils.experiments.rabi:RF Width: 1.05e-05 seconds\n",
      "INFO:qt3utils.experiments.rabi:RF Width: 1.1e-05 seconds\n",
      "INFO:qt3utils.experiments.rabi:RF Width: 1.15e-05 seconds\n",
      "INFO:qt3utils.experiments.rabi:RF Width: 1.2e-05 seconds\n",
      "INFO:qt3utils.experiments.rabi:RF Width: 1.25e-05 seconds\n",
      "INFO:qt3utils.experiments.rabi:RF Width: 1.3e-05 seconds\n",
      "INFO:qt3utils.experiments.rabi:RF Width: 1.35e-05 seconds\n",
      "INFO:qt3utils.experiments.rabi:RF Width: 1.4e-05 seconds\n",
      "INFO:qt3utils.experiments.rabi:RF Width: 1.45e-05 seconds\n",
      "INFO:qt3utils.experiments.rabi:RF Width: 1.5e-05 seconds\n",
      "INFO:qt3utils.experiments.rabi:RF Width: 1.55e-05 seconds\n"
     ]
    }
   ],
   "source": [
    "#rabi.rf_frequency = 2593e6\n",
    "#rabi.rf_frequency = 3100e6\n",
    "#rabi.rfsynth.set_channel_fixed_output(0, rabi.rf_power, rabi.rf_frequency)\n",
    "rabi.rfsynth.rf_on(rabi.rfsynth_channel)\n",
    "time.sleep(2)\n",
    "print(rabi.experimental_conditions())\n",
    "\n",
    "full_scans = []\n",
    "N = 1 #for testing\n",
    "#N = 100 #for statistics\n",
    "\n",
    "for i in range(N):\n",
    "    if i % 5 == 0:\n",
    "        print(i)\n",
    "    single_scan = rabi.run(N_cycles=1000, post_process_function=aggregate_mean_data, reverse=(1%2==0))\n",
    "    full_scans.append(single_scan)\n",
    " \n",
    "# single scan mode\n",
    "#single_scan = rabi.run(N_cycles = 1000, post_process_function=aggregate_mean_data) #very short scan\n",
    "#single_scan = rabi.run(N_cycles = 100000, post_process_function=aggregate_mean_data) #longer scan"
   ]
  },
  {
   "cell_type": "markdown",
   "id": "3a3ad26d",
   "metadata": {},
   "source": [
    "## Massage Data"
   ]
  },
  {
   "cell_type": "code",
   "execution_count": null,
   "id": "7828c974",
   "metadata": {},
   "outputs": [],
   "source": [
    "#only need this if doing repeated scans. If just doing one long single scan, can comment this out\n",
    "reconstructed_single_scan = recombine_scans(full_scans)"
   ]
  },
  {
   "cell_type": "markdown",
   "id": "ea36a6a6",
   "metadata": {},
   "source": [
    "# Build contrast"
   ]
  },
  {
   "cell_type": "code",
   "execution_count": 20,
   "id": "d3c3bb77-cf83-4a41-bfb6-7b3f5775a7ce",
   "metadata": {},
   "outputs": [
    {
     "data": {
      "text/plain": [
       "[<matplotlib.lines.Line2D at 0x2a427fe6520>]"
      ]
     },
     "execution_count": 20,
     "metadata": {},
     "output_type": "execute_result"
    },
    {
     "data": {
      "image/png": "[encoded data removed]",
      "text/plain": [
       "<Figure size 432x288 with 1 Axes>"
      ]
     },
     "metadata": {
      "needs_background": "light"
     },
     "output_type": "display_data"
    }
   ],
   "source": [
    "contrast = build_contrast(reconstructed_single_scan)\n",
    "#contrast = build_contrast(scan_data)\n",
    "\n",
    "x_data = contrast[:, 0]*1e6\n",
    "y_data = contrast[:, 1]\n",
    "\n",
    "plt.plot(x_data, y_data, 'o-', label='Data')"
   ]
  },
  {
   "cell_type": "markdown",
   "id": "d9fdd89b",
   "metadata": {},
   "source": [
    "# Perform fit"
   ]
  },
  {
   "cell_type": "code",
   "execution_count": 22,
   "id": "7b9ff221-d988-47b0-9c91-6ec2c41bb932",
   "metadata": {},
   "outputs": [
    {
     "data": {
      "text/plain": [
       "<matplotlib.legend.Legend at 0x2a4280c6ee0>"
      ]
     },
     "execution_count": 22,
     "metadata": {},
     "output_type": "execute_result"
    },
    {
     "data": {
      "image/png": "[encoded data removed]",
      "text/plain": [
       "<Figure size 432x288 with 1 Axes>"
      ]
     },
     "metadata": {
      "needs_background": "light"
     },
     "output_type": "display_data"
    }
   ],
   "source": [
    "def rabi_oscillation(x, a, b, phi, t, offset, slope):\n",
    "    return a * np.exp(-x/t) * np.sin(2*np.pi*x/b + phi) + offset + slope * x\n",
    "\n",
    "params, params_covariance = optimize.curve_fit(rabi_oscillation, x_data, y_data,\n",
    "                                              p0=[.005, 1, 1, 1, 1, 0], maxfev=50000)\n",
    "#params, params_covariance = optimize.curve_fit(rabi_oscillation, x_data, y_data, maxfev=5000)\n",
    "\n",
    "\n",
    "plt.figure(figsize=(6, 4))\n",
    "#plt.scatter(x_data, y_data, label='Data', s=5)\n",
    "plt.plot(x_data, y_data, 'o-', label='Data')\n",
    "\n",
    "plt.xlabel('microseconds')\n",
    "plt.ylabel('signal/background')\n",
    "plt.plot(x_data, rabi_oscillation(x_data, *params),\n",
    "         label='Fitted function', color='orange')\n",
    "plt.legend()"
   ]
  },
  {
   "cell_type": "code",
   "execution_count": 25,
   "id": "87afec80-4a87-43e5-af9e-33dab64d5e5d",
   "metadata": {},
   "outputs": [
    {
     "data": {
      "text/plain": [
       "1.4753981611551872"
      ]
     },
     "execution_count": 25,
     "metadata": {},
     "output_type": "execute_result"
    }
   ],
   "source": [
    "params[1]/2 #pi pulse in microseconds"
   ]
  },
  {
   "cell_type": "code",
   "execution_count": 26,
   "id": "a57b0c67-25fd-4691-8ee6-57483e1587b2",
   "metadata": {},
   "outputs": [
    {
     "data": {
      "text/plain": [
       "3.2528610014553894"
      ]
     },
     "execution_count": 26,
     "metadata": {},
     "output_type": "execute_result"
    }
   ],
   "source": [
    "params[3] #t2* in microseconds"
   ]
  },
  {
   "cell_type": "code",
   "execution_count": null,
   "id": "ee567404-41c4-4c52-b246-c73243aab1b3",
   "metadata": {},
   "outputs": [],
   "source": []
  }
 ],
 "metadata": {
  "kernelspec": {
   "display_name": "Python 3 (ipykernel)",
   "language": "python",
   "name": "python3"
  },
  "language_info": {
   "codemirror_mode": {
    "name": "ipython",
    "version": 3
   },
   "file_extension": ".py",
   "mimetype": "text/x-python",
   "name": "python",
   "nbconvert_exporter": "python",
   "pygments_lexer": "ipython3",
   "version": "3.9.12"
  }
 },
 "nbformat": 4,
 "nbformat_minor": 5
}
